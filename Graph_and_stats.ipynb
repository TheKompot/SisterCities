{
  "cells": [
    {
      "cell_type": "markdown",
      "metadata": {
        "id": "view-in-github",
        "colab_type": "text"
      },
      "source": [
        "<a href=\"https://colab.research.google.com/github/TheKompot/SisterCities/blob/main/Graph_and_stats.ipynb\" target=\"_parent\"><img src=\"https://colab.research.google.com/assets/colab-badge.svg\" alt=\"Open In Colab\"/></a>"
      ]
    },
    {
      "cell_type": "code",
      "source": [
        "import pickle\n",
        "import pandas as pd"
      ],
      "metadata": {
        "id": "PDVZ3sbb4yP-"
      },
      "id": "PDVZ3sbb4yP-",
      "execution_count": 28,
      "outputs": []
    },
    {
      "cell_type": "code",
      "source": [
        "data  = {}\n",
        "with open('sister_cities.pkl','rb') as f:\n",
        "    data = pickle.load(f)\n",
        "df = pd.DataFrame(data).T\n",
        "df.head()"
      ],
      "metadata": {
        "colab": {
          "base_uri": "https://localhost:8080/",
          "height": 206
        },
        "id": "xCVxTlGr5Kph",
        "outputId": "2d958f35-6727-4bea-afd8-aa3fcd87519b"
      },
      "id": "xCVxTlGr5Kph",
      "execution_count": 29,
      "outputs": [
        {
          "output_type": "execute_result",
          "data": {
            "text/plain": [
              "                          sister_city          country_of_sc      country  \\\n",
              "Asadabad                 [Union City]        [United States]  Afghanistan   \n",
              "Ghazni            [Hayward, Nishapur]  [United States, Iran]  Afghanistan   \n",
              "Herat      [Council Bluffs, Nishapur]  [United States, Iran]  Afghanistan   \n",
              "Jalalabad                 [San Diego]        [United States]  Afghanistan   \n",
              "Kabul                 [Ankara, Kazan]       [Turkey, Russia]  Afghanistan   \n",
              "\n",
              "          continent        continent_of_sc  \n",
              "Asadabad       Asia        [North America]  \n",
              "Ghazni         Asia  [North America, Asia]  \n",
              "Herat          Asia  [North America, Asia]  \n",
              "Jalalabad      Asia        [North America]  \n",
              "Kabul          Asia       [Europe, Europe]  "
            ],
            "text/html": [
              "\n",
              "  <div id=\"df-7f73167d-60af-4b54-ad26-40662d53a5b2\">\n",
              "    <div class=\"colab-df-container\">\n",
              "      <div>\n",
              "<style scoped>\n",
              "    .dataframe tbody tr th:only-of-type {\n",
              "        vertical-align: middle;\n",
              "    }\n",
              "\n",
              "    .dataframe tbody tr th {\n",
              "        vertical-align: top;\n",
              "    }\n",
              "\n",
              "    .dataframe thead th {\n",
              "        text-align: right;\n",
              "    }\n",
              "</style>\n",
              "<table border=\"1\" class=\"dataframe\">\n",
              "  <thead>\n",
              "    <tr style=\"text-align: right;\">\n",
              "      <th></th>\n",
              "      <th>sister_city</th>\n",
              "      <th>country_of_sc</th>\n",
              "      <th>country</th>\n",
              "      <th>continent</th>\n",
              "      <th>continent_of_sc</th>\n",
              "    </tr>\n",
              "  </thead>\n",
              "  <tbody>\n",
              "    <tr>\n",
              "      <th>Asadabad</th>\n",
              "      <td>[Union City]</td>\n",
              "      <td>[United States]</td>\n",
              "      <td>Afghanistan</td>\n",
              "      <td>Asia</td>\n",
              "      <td>[North America]</td>\n",
              "    </tr>\n",
              "    <tr>\n",
              "      <th>Ghazni</th>\n",
              "      <td>[Hayward, Nishapur]</td>\n",
              "      <td>[United States, Iran]</td>\n",
              "      <td>Afghanistan</td>\n",
              "      <td>Asia</td>\n",
              "      <td>[North America, Asia]</td>\n",
              "    </tr>\n",
              "    <tr>\n",
              "      <th>Herat</th>\n",
              "      <td>[Council Bluffs, Nishapur]</td>\n",
              "      <td>[United States, Iran]</td>\n",
              "      <td>Afghanistan</td>\n",
              "      <td>Asia</td>\n",
              "      <td>[North America, Asia]</td>\n",
              "    </tr>\n",
              "    <tr>\n",
              "      <th>Jalalabad</th>\n",
              "      <td>[San Diego]</td>\n",
              "      <td>[United States]</td>\n",
              "      <td>Afghanistan</td>\n",
              "      <td>Asia</td>\n",
              "      <td>[North America]</td>\n",
              "    </tr>\n",
              "    <tr>\n",
              "      <th>Kabul</th>\n",
              "      <td>[Ankara, Kazan]</td>\n",
              "      <td>[Turkey, Russia]</td>\n",
              "      <td>Afghanistan</td>\n",
              "      <td>Asia</td>\n",
              "      <td>[Europe, Europe]</td>\n",
              "    </tr>\n",
              "  </tbody>\n",
              "</table>\n",
              "</div>\n",
              "      <button class=\"colab-df-convert\" onclick=\"convertToInteractive('df-7f73167d-60af-4b54-ad26-40662d53a5b2')\"\n",
              "              title=\"Convert this dataframe to an interactive table.\"\n",
              "              style=\"display:none;\">\n",
              "        \n",
              "  <svg xmlns=\"http://www.w3.org/2000/svg\" height=\"24px\"viewBox=\"0 0 24 24\"\n",
              "       width=\"24px\">\n",
              "    <path d=\"M0 0h24v24H0V0z\" fill=\"none\"/>\n",
              "    <path d=\"M18.56 5.44l.94 2.06.94-2.06 2.06-.94-2.06-.94-.94-2.06-.94 2.06-2.06.94zm-11 1L8.5 8.5l.94-2.06 2.06-.94-2.06-.94L8.5 2.5l-.94 2.06-2.06.94zm10 10l.94 2.06.94-2.06 2.06-.94-2.06-.94-.94-2.06-.94 2.06-2.06.94z\"/><path d=\"M17.41 7.96l-1.37-1.37c-.4-.4-.92-.59-1.43-.59-.52 0-1.04.2-1.43.59L10.3 9.45l-7.72 7.72c-.78.78-.78 2.05 0 2.83L4 21.41c.39.39.9.59 1.41.59.51 0 1.02-.2 1.41-.59l7.78-7.78 2.81-2.81c.8-.78.8-2.07 0-2.86zM5.41 20L4 18.59l7.72-7.72 1.47 1.35L5.41 20z\"/>\n",
              "  </svg>\n",
              "      </button>\n",
              "      \n",
              "  <style>\n",
              "    .colab-df-container {\n",
              "      display:flex;\n",
              "      flex-wrap:wrap;\n",
              "      gap: 12px;\n",
              "    }\n",
              "\n",
              "    .colab-df-convert {\n",
              "      background-color: #E8F0FE;\n",
              "      border: none;\n",
              "      border-radius: 50%;\n",
              "      cursor: pointer;\n",
              "      display: none;\n",
              "      fill: #1967D2;\n",
              "      height: 32px;\n",
              "      padding: 0 0 0 0;\n",
              "      width: 32px;\n",
              "    }\n",
              "\n",
              "    .colab-df-convert:hover {\n",
              "      background-color: #E2EBFA;\n",
              "      box-shadow: 0px 1px 2px rgba(60, 64, 67, 0.3), 0px 1px 3px 1px rgba(60, 64, 67, 0.15);\n",
              "      fill: #174EA6;\n",
              "    }\n",
              "\n",
              "    [theme=dark] .colab-df-convert {\n",
              "      background-color: #3B4455;\n",
              "      fill: #D2E3FC;\n",
              "    }\n",
              "\n",
              "    [theme=dark] .colab-df-convert:hover {\n",
              "      background-color: #434B5C;\n",
              "      box-shadow: 0px 1px 3px 1px rgba(0, 0, 0, 0.15);\n",
              "      filter: drop-shadow(0px 1px 2px rgba(0, 0, 0, 0.3));\n",
              "      fill: #FFFFFF;\n",
              "    }\n",
              "  </style>\n",
              "\n",
              "      <script>\n",
              "        const buttonEl =\n",
              "          document.querySelector('#df-7f73167d-60af-4b54-ad26-40662d53a5b2 button.colab-df-convert');\n",
              "        buttonEl.style.display =\n",
              "          google.colab.kernel.accessAllowed ? 'block' : 'none';\n",
              "\n",
              "        async function convertToInteractive(key) {\n",
              "          const element = document.querySelector('#df-7f73167d-60af-4b54-ad26-40662d53a5b2');\n",
              "          const dataTable =\n",
              "            await google.colab.kernel.invokeFunction('convertToInteractive',\n",
              "                                                     [key], {});\n",
              "          if (!dataTable) return;\n",
              "\n",
              "          const docLinkHtml = 'Like what you see? Visit the ' +\n",
              "            '<a target=\"_blank\" href=https://colab.research.google.com/notebooks/data_table.ipynb>data table notebook</a>'\n",
              "            + ' to learn more about interactive tables.';\n",
              "          element.innerHTML = '';\n",
              "          dataTable['output_type'] = 'display_data';\n",
              "          await google.colab.output.renderOutput(dataTable, element);\n",
              "          const docLink = document.createElement('div');\n",
              "          docLink.innerHTML = docLinkHtml;\n",
              "          element.appendChild(docLink);\n",
              "        }\n",
              "      </script>\n",
              "    </div>\n",
              "  </div>\n",
              "  "
            ]
          },
          "metadata": {},
          "execution_count": 29
        }
      ]
    },
    {
      "cell_type": "code",
      "source": [
        "#creating list of towns and corresponding continents\n",
        "town=[]\n",
        "continent= df.continent.tolist()\n",
        "for t in df.index:\n",
        "  if t!='':\n",
        "    town.append(t)\n",
        "\n",
        "sis_name=df.sister_city.values.tolist()\n",
        "sis_cont=df.continent_of_sc.values.tolist()\n",
        "\n",
        "for lis in range(len(sis_name)):\n",
        "  for j in range (len(sis_name[lis])):\n",
        "    if sis_name[lis][j] not in town:\n",
        "      if sis_name[lis][j]!='':\n",
        "        town.append(sis_name[lis][j])\n",
        "        continent.append(sis_cont[lis][j])\n"
      ],
      "metadata": {
        "id": "3DSSda8zauog"
      },
      "id": "3DSSda8zauog",
      "execution_count": 42,
      "outputs": []
    },
    {
      "cell_type": "code",
      "source": [
        "# pocty miest v kontinentoch\n",
        "c=list(continent)\n",
        "print(c.count('Africa'), c.count('Asia'), c.count('Europe'), c.count('Oceania'), c.count('South America'), c.count('North America'))"
      ],
      "metadata": {
        "colab": {
          "base_uri": "https://localhost:8080/"
        },
        "id": "8txNwJGNIc8h",
        "outputId": "28df939b-995b-4afb-e490-1f5c8775e6bc"
      },
      "id": "8txNwJGNIc8h",
      "execution_count": 45,
      "outputs": [
        {
          "output_type": "stream",
          "name": "stdout",
          "text": [
            "433 1700 8752 213 362 1805\n"
          ]
        }
      ]
    },
    {
      "cell_type": "code",
      "source": [
        "#creating corresponding colors by updating continent list\n",
        "import numpy as np\n",
        "np.unique(continent) \n",
        "\n",
        "color_map = {\n",
        "    'Africa': \"black\",\n",
        "     'Asia': \"green\",\n",
        "    'Europe': \"red\",\n",
        "    'North America': \"yellow\",\n",
        "    'Oceania': \"blue\",\n",
        "    'South America': 'white'\n",
        "}\n",
        "\n",
        "\n",
        "for i in range(len(continent)):\n",
        "    if continent[i] in color_map:\n",
        "        continent[i] = color_map[continent[i]]\n",
        "\n"
      ],
      "metadata": {
        "id": "jJfwwY69eGk7"
      },
      "id": "jJfwwY69eGk7",
      "execution_count": 46,
      "outputs": []
    },
    {
      "cell_type": "code",
      "source": [
        "#creating the graph\n",
        "import networkx as nx\n",
        "G = nx.Graph()\n",
        "\n",
        "for h in range(len(town)):\n",
        "  G.add_node(town[h], color=continent[h])\n",
        "\n",
        "for row in df.index[0:len(town)]:\n",
        "  if row!='':\n",
        "    for sis in df.loc[row, 'sister_city']:\n",
        "      if sis!='':  \n",
        "        G.add_edge(row, sis, weight=1)\n",
        "    \n"
      ],
      "metadata": {
        "id": "ZqzGJxDxnutO"
      },
      "id": "ZqzGJxDxnutO",
      "execution_count": 47,
      "outputs": []
    },
    {
      "cell_type": "code",
      "source": [
        "#Vizualizacia\n",
        "#!pip install pyvis\n",
        "\n",
        "from pyvis.network import Network\n",
        "net=Network(notebook=True)\n",
        "net.from_nx(G)\n",
        "net.save_graph(\"graph.html\")"
      ],
      "metadata": {
        "colab": {
          "base_uri": "https://localhost:8080/"
        },
        "id": "SAsfoOgwjlz-",
        "outputId": "8b603f55-5eb1-439f-9e42-fd1f13412e5b"
      },
      "id": "SAsfoOgwjlz-",
      "execution_count": null,
      "outputs": [
        {
          "output_type": "stream",
          "name": "stdout",
          "text": [
            "Warning: When  cdn_resources is 'local' jupyter notebook has issues displaying graphics on chrome/safari. Use cdn_resources='in_line' or cdn_resources='remote' if you have issues viewing graphics in a notebook.\n"
          ]
        }
      ]
    },
    {
      "cell_type": "markdown",
      "source": [
        "# New section"
      ],
      "metadata": {
        "id": "bTLB8zOdw3f4"
      },
      "id": "bTLB8zOdw3f4"
    },
    {
      "cell_type": "code",
      "source": [
        "lis=[]\n",
        "for c in nx.connected_components(G):\n",
        "    lis.append(len(c))\n",
        "\n",
        "\n",
        "#pomer najvacsie k celk. poctu miest\n",
        "max(lis)/sum(lis)"
      ],
      "metadata": {
        "colab": {
          "base_uri": "https://localhost:8080/"
        },
        "id": "ADJxklD4b_25",
        "outputId": "384ab966-af9a-48db-a4e8-5bbcbba09eae"
      },
      "id": "ADJxklD4b_25",
      "execution_count": 48,
      "outputs": [
        {
          "output_type": "execute_result",
          "data": {
            "text/plain": [
              "0.7331323030531474"
            ]
          },
          "metadata": {},
          "execution_count": 48
        }
      ]
    },
    {
      "cell_type": "code",
      "source": [
        "# celkovy pocet miest\n",
        "len(G.nodes())\n"
      ],
      "metadata": {
        "colab": {
          "base_uri": "https://localhost:8080/"
        },
        "id": "gK8dPus9iXpZ",
        "outputId": "aa2c1a0e-e845-46c9-9129-5d1cb1956f5b"
      },
      "id": "gK8dPus9iXpZ",
      "execution_count": 49,
      "outputs": [
        {
          "output_type": "execute_result",
          "data": {
            "text/plain": [
              "13265"
            ]
          },
          "metadata": {},
          "execution_count": 49
        }
      ]
    },
    {
      "cell_type": "code",
      "source": [
        "#Priemerny stupen vrchola\n",
        "\n",
        "pr_s= 2*(G.number_of_edges())/(G.number_of_nodes())\n",
        "print(pr_s)\n",
        "\n",
        "#Hustota\n",
        "\n",
        "hus=pr_s/(G.number_of_nodes()-1)\n",
        "print(hus)\n",
        "\n"
      ],
      "metadata": {
        "colab": {
          "base_uri": "https://localhost:8080/"
        },
        "id": "BlH2dmh9mrq5",
        "outputId": "c8faa730-61bf-4408-fa33-142e13aaf370"
      },
      "id": "BlH2dmh9mrq5",
      "execution_count": 50,
      "outputs": [
        {
          "output_type": "stream",
          "name": "stdout",
          "text": [
            "2.7835657745947984\n",
            "0.00020985869832590458\n"
          ]
        }
      ]
    },
    {
      "cell_type": "code",
      "source": [
        "import matplotlib.pyplot as plt\n",
        "#rozdelenie stupna vrcholov\n",
        "\n",
        "degrees = [G.degree(n) for n in G.nodes()]\n",
        "plt.title('Histogram stupna vrcholov')\n",
        "plt.xlabel('stupen vrchola')\n",
        "plt.hist(degrees)\n",
        "plt.savefig('hist.png')\n",
        "\n",
        "plt.show()\n",
        "\n",
        "from google.colab import files\n",
        "files.download(\"hist.png\")\n",
        "\n",
        "\n"
      ],
      "metadata": {
        "colab": {
          "base_uri": "https://localhost:8080/",
          "height": 472
        },
        "id": "VxnTBqvUnTzC",
        "outputId": "3e582b1e-e59f-4ace-db12-915838da96c0"
      },
      "id": "VxnTBqvUnTzC",
      "execution_count": 51,
      "outputs": [
        {
          "output_type": "display_data",
          "data": {
            "text/plain": [
              "<Figure size 640x480 with 1 Axes>"
            ],
            "image/png": "[encoded data removed]"
          },
          "metadata": {}
        },
        {
          "output_type": "display_data",
          "data": {
            "text/plain": [
              "<IPython.core.display.Javascript object>"
            ],
            "application/javascript": [
              "\n",
              "    async function download(id, filename, size) {\n",
              "      if (!google.colab.kernel.accessAllowed) {\n",
              "        return;\n",
              "      }\n",
              "      const div = document.createElement('div');\n",
              "      const label = document.createElement('label');\n",
              "      label.textContent = `Downloading \"${filename}\": `;\n",
              "      div.appendChild(label);\n",
              "      const progress = document.createElement('progress');\n",
              "      progress.max = size;\n",
              "      div.appendChild(progress);\n",
              "      document.body.appendChild(div);\n",
              "\n",
              "      const buffers = [];\n",
              "      let downloaded = 0;\n",
              "\n",
              "      const channel = await google.colab.kernel.comms.open(id);\n",
              "      // Send a message to notify the kernel that we're ready.\n",
              "      channel.send({})\n",
              "\n",
              "      for await (const message of channel.messages) {\n",
              "        // Send a message to notify the kernel that we're ready.\n",
              "        channel.send({})\n",
              "        if (message.buffers) {\n",
              "          for (const buffer of message.buffers) {\n",
              "            buffers.push(buffer);\n",
              "            downloaded += buffer.byteLength;\n",
              "            progress.value = downloaded;\n",
              "          }\n",
              "        }\n",
              "      }\n",
              "      const blob = new Blob(buffers, {type: 'application/binary'});\n",
              "      const a = document.createElement('a');\n",
              "      a.href = window.URL.createObjectURL(blob);\n",
              "      a.download = filename;\n",
              "      div.appendChild(a);\n",
              "      a.click();\n",
              "      div.remove();\n",
              "    }\n",
              "  "
            ]
          },
          "metadata": {}
        },
        {
          "output_type": "display_data",
          "data": {
            "text/plain": [
              "<IPython.core.display.Javascript object>"
            ],
            "application/javascript": [
              "download(\"download_ec03d193-3eec-4f6d-a17d-dab23dc82be1\", \"hist.png\", 16620)"
            ]
          },
          "metadata": {}
        }
      ]
    },
    {
      "cell_type": "code",
      "source": [
        "#mesto s najvacsim poctov sister cities\n",
        "list(G.nodes())[degrees.index(max(degrees))]\n",
        "\n",
        "#pocet vrcholov RIo de Janeiro\n",
        "len(df.loc['Rio de Janeiro', 'sister_city'])"
      ],
      "metadata": {
        "colab": {
          "base_uri": "https://localhost:8080/",
          "height": 35
        },
        "id": "W3C9IRBHAQaJ",
        "outputId": "4602ed3b-8a4d-44a6-ec95-bd144acb04a4"
      },
      "id": "W3C9IRBHAQaJ",
      "execution_count": null,
      "outputs": [
        {
          "output_type": "execute_result",
          "data": {
            "text/plain": [
              "'Rio de Janeiro'"
            ],
            "application/vnd.google.colaboratory.intrinsic+json": {
              "type": "string"
            }
          },
          "metadata": {},
          "execution_count": 40
        }
      ]
    },
    {
      "cell_type": "code",
      "source": [
        "with open('degree.txt', 'w') as f:\n",
        "    for line in degrees:\n",
        "        f.write(f\"{line}\\n\")\n",
        "\n",
        "\n",
        "from google.colab import files\n",
        "files.download(\"degrees.txt\")\n"
      ],
      "metadata": {
        "colab": {
          "base_uri": "https://localhost:8080/",
          "height": 17
        },
        "id": "mfMm55KGrSH-",
        "outputId": "347a27e7-9486-4c1e-da8e-648e2d0ba43e"
      },
      "id": "mfMm55KGrSH-",
      "execution_count": null,
      "outputs": [
        {
          "output_type": "display_data",
          "data": {
            "text/plain": [
              "<IPython.core.display.Javascript object>"
            ],
            "application/javascript": [
              "\n",
              "    async function download(id, filename, size) {\n",
              "      if (!google.colab.kernel.accessAllowed) {\n",
              "        return;\n",
              "      }\n",
              "      const div = document.createElement('div');\n",
              "      const label = document.createElement('label');\n",
              "      label.textContent = `Downloading \"${filename}\": `;\n",
              "      div.appendChild(label);\n",
              "      const progress = document.createElement('progress');\n",
              "      progress.max = size;\n",
              "      div.appendChild(progress);\n",
              "      document.body.appendChild(div);\n",
              "\n",
              "      const buffers = [];\n",
              "      let downloaded = 0;\n",
              "\n",
              "      const channel = await google.colab.kernel.comms.open(id);\n",
              "      // Send a message to notify the kernel that we're ready.\n",
              "      channel.send({})\n",
              "\n",
              "      for await (const message of channel.messages) {\n",
              "        // Send a message to notify the kernel that we're ready.\n",
              "        channel.send({})\n",
              "        if (message.buffers) {\n",
              "          for (const buffer of message.buffers) {\n",
              "            buffers.push(buffer);\n",
              "            downloaded += buffer.byteLength;\n",
              "            progress.value = downloaded;\n",
              "          }\n",
              "        }\n",
              "      }\n",
              "      const blob = new Blob(buffers, {type: 'application/binary'});\n",
              "      const a = document.createElement('a');\n",
              "      a.href = window.URL.createObjectURL(blob);\n",
              "      a.download = filename;\n",
              "      div.appendChild(a);\n",
              "      a.click();\n",
              "      div.remove();\n",
              "    }\n",
              "  "
            ]
          },
          "metadata": {}
        },
        {
          "output_type": "display_data",
          "data": {
            "text/plain": [
              "<IPython.core.display.Javascript object>"
            ],
            "application/javascript": [
              "download(\"download_2c866691-8662-4687-a4e2-7ea6b05495c9\", \"degree.txt\", 27197)"
            ]
          },
          "metadata": {}
        }
      ]
    },
    {
      "cell_type": "code",
      "source": [
        "import networkx as nx\n",
        "page=nx.pagerank(G, alpha=0.85, personalization=None, max_iter=100, tol=1e-06, nstart=None, weight='weight', dangling=None)\n",
        "pagelist = list(page.items())\n",
        "\n",
        "with open('pagerank.txt', 'w') as f:\n",
        "    for line in pagelist:\n",
        "        f.write(f\"{line}\\n\")\n",
        "\n",
        "\n",
        "from google.colab import files\n",
        "files.download(\"pagerank.txt\")\n"
      ],
      "metadata": {
        "colab": {
          "base_uri": "https://localhost:8080/",
          "height": 17
        },
        "id": "qeCLNbYJuN4W",
        "outputId": "59c916fe-41b6-4c14-8871-fa8ff681165c"
      },
      "id": "qeCLNbYJuN4W",
      "execution_count": null,
      "outputs": [
        {
          "output_type": "display_data",
          "data": {
            "text/plain": [
              "<IPython.core.display.Javascript object>"
            ],
            "application/javascript": [
              "\n",
              "    async function download(id, filename, size) {\n",
              "      if (!google.colab.kernel.accessAllowed) {\n",
              "        return;\n",
              "      }\n",
              "      const div = document.createElement('div');\n",
              "      const label = document.createElement('label');\n",
              "      label.textContent = `Downloading \"${filename}\": `;\n",
              "      div.appendChild(label);\n",
              "      const progress = document.createElement('progress');\n",
              "      progress.max = size;\n",
              "      div.appendChild(progress);\n",
              "      document.body.appendChild(div);\n",
              "\n",
              "      const buffers = [];\n",
              "      let downloaded = 0;\n",
              "\n",
              "      const channel = await google.colab.kernel.comms.open(id);\n",
              "      // Send a message to notify the kernel that we're ready.\n",
              "      channel.send({})\n",
              "\n",
              "      for await (const message of channel.messages) {\n",
              "        // Send a message to notify the kernel that we're ready.\n",
              "        channel.send({})\n",
              "        if (message.buffers) {\n",
              "          for (const buffer of message.buffers) {\n",
              "            buffers.push(buffer);\n",
              "            downloaded += buffer.byteLength;\n",
              "            progress.value = downloaded;\n",
              "          }\n",
              "        }\n",
              "      }\n",
              "      const blob = new Blob(buffers, {type: 'application/binary'});\n",
              "      const a = document.createElement('a');\n",
              "      a.href = window.URL.createObjectURL(blob);\n",
              "      a.download = filename;\n",
              "      div.appendChild(a);\n",
              "      a.click();\n",
              "      div.remove();\n",
              "    }\n",
              "  "
            ]
          },
          "metadata": {}
        },
        {
          "output_type": "display_data",
          "data": {
            "text/plain": [
              "<IPython.core.display.Javascript object>"
            ],
            "application/javascript": [
              "download(\"download_a6e3d0e6-9dc9-403c-98da-448a882e6fb9\", \"pagerank.txt\", 511099)"
            ]
          },
          "metadata": {}
        }
      ]
    },
    {
      "cell_type": "code",
      "source": [
        "\n",
        "\n",
        "komp_suv=[]\n",
        "for c in nx.connected_components(G):\n",
        "    komp_suv.append(c)\n",
        "\n",
        "\n",
        "n_komp_suv=len(komp_suv)\n",
        "#pocet komponentov suvislosti\n",
        "print(n_komp_suv)\n",
        "\n",
        "\n",
        "Gcc = sorted(nx.connected_components(G), key=len, reverse=True)\n",
        "print(len(Gcc[0]))\n",
        "  "
      ],
      "metadata": {
        "colab": {
          "base_uri": "https://localhost:8080/"
        },
        "id": "ym_khtG5vfpY",
        "outputId": "4251e3c5-6aff-47ca-c2f6-30b2b6e346b8"
      },
      "id": "ym_khtG5vfpY",
      "execution_count": null,
      "outputs": [
        {
          "output_type": "stream",
          "name": "stdout",
          "text": [
            "1400\n",
            "9725\n"
          ]
        }
      ]
    },
    {
      "cell_type": "markdown",
      "source": [],
      "metadata": {
        "id": "w8fyBWYr_g05"
      },
      "id": "w8fyBWYr_g05"
    },
    {
      "cell_type": "code",
      "source": [
        "    \n",
        "#average shortest path\n",
        "\n",
        "nx.average_shortest_path_length(G.subgraph(Gcc[0]))"
      ],
      "metadata": {
        "colab": {
          "base_uri": "https://localhost:8080/"
        },
        "id": "_w0SZJhx8IDr",
        "outputId": "f03d0c9d-9edc-434c-98cc-0289ef952e18"
      },
      "id": "_w0SZJhx8IDr",
      "execution_count": null,
      "outputs": [
        {
          "output_type": "execute_result",
          "data": {
            "text/plain": [
              "7.320858935409064"
            ]
          },
          "metadata": {},
          "execution_count": 84
        }
      ]
    }
  ],
  "metadata": {
    "kernelspec": {
      "display_name": "Python 3 (ipykernel)",
      "language": "python",
      "name": "python3"
    },
    "language_info": {
      "codemirror_mode": {
        "name": "ipython",
        "version": 3
      },
      "file_extension": ".py",
      "mimetype": "text/x-python",
      "name": "python",
      "nbconvert_exporter": "python",
      "pygments_lexer": "ipython3",
      "version": "3.10.9"
    },
    "colab": {
      "provenance": [],
      "include_colab_link": true
    }
  },
  "nbformat": 4,
  "nbformat_minor": 5
}