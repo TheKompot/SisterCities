{
 "cells": [
  {
   "cell_type": "code",
   "execution_count": 1,
   "metadata": {},
   "outputs": [],
   "source": [
    "import pickle\n",
    "import pandas as pd"
   ]
  },
  {
   "cell_type": "code",
   "execution_count": 5,
   "metadata": {},
   "outputs": [
    {
     "data": {
      "text/html": [
       "<div>\n",
       "<style scoped>\n",
       "    .dataframe tbody tr th:only-of-type {\n",
       "        vertical-align: middle;\n",
       "    }\n",
       "\n",
       "    .dataframe tbody tr th {\n",
       "        vertical-align: top;\n",
       "    }\n",
       "\n",
       "    .dataframe thead th {\n",
       "        text-align: right;\n",
       "    }\n",
       "</style>\n",
       "<table border=\"1\" class=\"dataframe\">\n",
       "  <thead>\n",
       "    <tr style=\"text-align: right;\">\n",
       "      <th></th>\n",
       "      <th>sister_city</th>\n",
       "      <th>country_of_sc</th>\n",
       "      <th>country</th>\n",
       "      <th>continent</th>\n",
       "      <th>continent_of_sc</th>\n",
       "    </tr>\n",
       "  </thead>\n",
       "  <tbody>\n",
       "    <tr>\n",
       "      <th>Asadabad</th>\n",
       "      <td>[Union City]</td>\n",
       "      <td>[United States]</td>\n",
       "      <td>Afghanistan</td>\n",
       "      <td>Asia</td>\n",
       "      <td>[North America]</td>\n",
       "    </tr>\n",
       "    <tr>\n",
       "      <th>Ghazni</th>\n",
       "      <td>[Hayward, Nishapur]</td>\n",
       "      <td>[United States, Iran]</td>\n",
       "      <td>Afghanistan</td>\n",
       "      <td>Asia</td>\n",
       "      <td>[North America, Asia]</td>\n",
       "    </tr>\n",
       "    <tr>\n",
       "      <th>Herat</th>\n",
       "      <td>[Council Bluffs, Nishapur]</td>\n",
       "      <td>[United States, Iran]</td>\n",
       "      <td>Afghanistan</td>\n",
       "      <td>Asia</td>\n",
       "      <td>[North America, Asia]</td>\n",
       "    </tr>\n",
       "    <tr>\n",
       "      <th>Jalalabad</th>\n",
       "      <td>[San Diego]</td>\n",
       "      <td>[United States]</td>\n",
       "      <td>Afghanistan</td>\n",
       "      <td>Asia</td>\n",
       "      <td>[North America]</td>\n",
       "    </tr>\n",
       "    <tr>\n",
       "      <th>Kabul</th>\n",
       "      <td>[Ankara, Kazan]</td>\n",
       "      <td>[Turkey, Russia]</td>\n",
       "      <td>Afghanistan</td>\n",
       "      <td>Asia</td>\n",
       "      <td>[Europe, Europe]</td>\n",
       "    </tr>\n",
       "  </tbody>\n",
       "</table>\n",
       "</div>"
      ],
      "text/plain": [
       "                          sister_city          country_of_sc      country  \\\n",
       "Asadabad                 [Union City]        [United States]  Afghanistan   \n",
       "Ghazni            [Hayward, Nishapur]  [United States, Iran]  Afghanistan   \n",
       "Herat      [Council Bluffs, Nishapur]  [United States, Iran]  Afghanistan   \n",
       "Jalalabad                 [San Diego]        [United States]  Afghanistan   \n",
       "Kabul                 [Ankara, Kazan]       [Turkey, Russia]  Afghanistan   \n",
       "\n",
       "          continent        continent_of_sc  \n",
       "Asadabad       Asia        [North America]  \n",
       "Ghazni         Asia  [North America, Asia]  \n",
       "Herat          Asia  [North America, Asia]  \n",
       "Jalalabad      Asia        [North America]  \n",
       "Kabul          Asia       [Europe, Europe]  "
      ]
     },
     "execution_count": 5,
     "metadata": {},
     "output_type": "execute_result"
    }
   ],
   "source": [
    "data  = {}\n",
    "with open('data/sister_cities.pkl','rb') as f:\n",
    "    data = pickle.load(f)\n",
    "df = pd.DataFrame(data).T\n",
    "df.head()"
   ]
  },
  {
   "cell_type": "code",
   "execution_count": 6,
   "metadata": {},
   "outputs": [
    {
     "data": {
      "text/html": [
       "<div>\n",
       "<style scoped>\n",
       "    .dataframe tbody tr th:only-of-type {\n",
       "        vertical-align: middle;\n",
       "    }\n",
       "\n",
       "    .dataframe tbody tr th {\n",
       "        vertical-align: top;\n",
       "    }\n",
       "\n",
       "    .dataframe thead th {\n",
       "        text-align: right;\n",
       "    }\n",
       "</style>\n",
       "<table border=\"1\" class=\"dataframe\">\n",
       "  <thead>\n",
       "    <tr style=\"text-align: right;\">\n",
       "      <th></th>\n",
       "      <th>sister_city</th>\n",
       "      <th>country_of_sc</th>\n",
       "      <th>country</th>\n",
       "      <th>continent</th>\n",
       "    </tr>\n",
       "  </thead>\n",
       "  <tbody>\n",
       "    <tr>\n",
       "      <th>Asadabad</th>\n",
       "      <td>[Union City]</td>\n",
       "      <td>[United States]</td>\n",
       "      <td>Afghanistan</td>\n",
       "      <td>Asia</td>\n",
       "    </tr>\n",
       "    <tr>\n",
       "      <th>Ghazni</th>\n",
       "      <td>[Hayward, Nishapur]</td>\n",
       "      <td>[United States, Iran]</td>\n",
       "      <td>Afghanistan</td>\n",
       "      <td>Asia</td>\n",
       "    </tr>\n",
       "    <tr>\n",
       "      <th>Herat</th>\n",
       "      <td>[Council Bluffs, Nishapur]</td>\n",
       "      <td>[United States, Iran]</td>\n",
       "      <td>Afghanistan</td>\n",
       "      <td>Asia</td>\n",
       "    </tr>\n",
       "    <tr>\n",
       "      <th>Jalalabad</th>\n",
       "      <td>[San Diego]</td>\n",
       "      <td>[United States]</td>\n",
       "      <td>Afghanistan</td>\n",
       "      <td>Asia</td>\n",
       "    </tr>\n",
       "    <tr>\n",
       "      <th>Kabul</th>\n",
       "      <td>[Ankara, Kazan]</td>\n",
       "      <td>[Turkey, Russia]</td>\n",
       "      <td>Afghanistan</td>\n",
       "      <td>Asia</td>\n",
       "    </tr>\n",
       "  </tbody>\n",
       "</table>\n",
       "</div>"
      ],
      "text/plain": [
       "                          sister_city          country_of_sc      country  \\\n",
       "Asadabad                 [Union City]        [United States]  Afghanistan   \n",
       "Ghazni            [Hayward, Nishapur]  [United States, Iran]  Afghanistan   \n",
       "Herat      [Council Bluffs, Nishapur]  [United States, Iran]  Afghanistan   \n",
       "Jalalabad                 [San Diego]        [United States]  Afghanistan   \n",
       "Kabul                 [Ankara, Kazan]       [Turkey, Russia]  Afghanistan   \n",
       "\n",
       "          continent  \n",
       "Asadabad       Asia  \n",
       "Ghazni         Asia  \n",
       "Herat          Asia  \n",
       "Jalalabad      Asia  \n",
       "Kabul          Asia  "
      ]
     },
     "execution_count": 6,
     "metadata": {},
     "output_type": "execute_result"
    }
   ],
   "source": [
    "data  = {}\n",
    "with open('data/sister_cities_old.pkl','rb') as f:\n",
    "    data = pickle.load(f)\n",
    "dfo = pd.DataFrame(data).T\n",
    "dfo.head()"
   ]
  },
  {
   "cell_type": "code",
   "execution_count": 7,
   "metadata": {},
   "outputs": [
    {
     "data": {
      "text/plain": [
       "6331"
      ]
     },
     "execution_count": 7,
     "metadata": {},
     "output_type": "execute_result"
    }
   ],
   "source": [
    "len(dfo.index)"
   ]
  },
  {
   "cell_type": "code",
   "execution_count": 8,
   "metadata": {},
   "outputs": [
    {
     "data": {
      "text/plain": [
       "6308"
      ]
     },
     "execution_count": 8,
     "metadata": {},
     "output_type": "execute_result"
    }
   ],
   "source": [
    "len(df.index)"
   ]
  }
 ],
 "metadata": {
  "kernelspec": {
   "display_name": "Python 3",
   "language": "python",
   "name": "python3"
  },
  "language_info": {
   "codemirror_mode": {
    "name": "ipython",
    "version": 3
   },
   "file_extension": ".py",
   "mimetype": "text/x-python",
   "name": "python",
   "nbconvert_exporter": "python",
   "pygments_lexer": "ipython3",
   "version": "3.9.4"
  },
  "orig_nbformat": 4
 },
 "nbformat": 4,
 "nbformat_minor": 2
}
